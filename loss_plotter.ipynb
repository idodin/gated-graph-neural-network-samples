{
  "nbformat": 4,
  "nbformat_minor": 0,
  "metadata": {
    "colab": {
      "name": "loss_plotter.ipynb",
      "version": "0.3.2",
      "provenance": []
    },
    "language_info": {
      "codemirror_mode": {
        "name": "ipython",
        "version": 3
      },
      "file_extension": ".py",
      "mimetype": "text/x-python",
      "name": "python",
      "nbconvert_exporter": "python",
      "pygments_lexer": "ipython3",
      "version": "3.6.8"
    },
    "kernelspec": {
      "display_name": "Python 3",
      "language": "python",
      "name": "python3"
    }
  },
  "cells": [
    {
      "metadata": {
        "id": "vzizS3MOUfsa",
        "colab_type": "code",
        "colab": {
          "base_uri": "https://localhost:8080/",
          "height": 370
        },
        "outputId": "1e953287-7356-4207-9e64-1409edc159c2"
      },
      "cell_type": "code",
      "source": [
        "import numpy as np\n",
        "import matplotlib.pyplot as plt\n",
        "import json\n",
        "import os\n",
        "from chem_tensorflow import ChemModel\n",
        "from chem_tensorflow_dense import DenseGGNNChemModel"
      ],
      "execution_count": 2,
      "outputs": [
        {
          "output_type": "error",
          "ename": "ModuleNotFoundError",
          "evalue": "ignored",
          "traceback": [
            "\u001b[0;31m---------------------------------------------------------------------------\u001b[0m",
            "\u001b[0;31mModuleNotFoundError\u001b[0m                       Traceback (most recent call last)",
            "\u001b[0;32m<ipython-input-2-c76f89cdf722>\u001b[0m in \u001b[0;36m<module>\u001b[0;34m()\u001b[0m\n\u001b[1;32m      3\u001b[0m \u001b[0;32mimport\u001b[0m \u001b[0mjson\u001b[0m\u001b[0;34m\u001b[0m\u001b[0;34m\u001b[0m\u001b[0m\n\u001b[1;32m      4\u001b[0m \u001b[0;32mimport\u001b[0m \u001b[0mos\u001b[0m\u001b[0;34m\u001b[0m\u001b[0;34m\u001b[0m\u001b[0m\n\u001b[0;32m----> 5\u001b[0;31m \u001b[0;32mfrom\u001b[0m \u001b[0mchem_tensorflow\u001b[0m \u001b[0;32mimport\u001b[0m \u001b[0mChemModel\u001b[0m\u001b[0;34m\u001b[0m\u001b[0;34m\u001b[0m\u001b[0m\n\u001b[0m\u001b[1;32m      6\u001b[0m \u001b[0;32mfrom\u001b[0m \u001b[0mchem_tensorflow_dense\u001b[0m \u001b[0;32mimport\u001b[0m \u001b[0mDenseGGNNChemModel\u001b[0m\u001b[0;34m\u001b[0m\u001b[0;34m\u001b[0m\u001b[0m\n",
            "\u001b[0;31mModuleNotFoundError\u001b[0m: No module named 'chem_tensorflow'",
            "",
            "\u001b[0;31m---------------------------------------------------------------------------\u001b[0;32m\nNOTE: If your import is failing due to a missing package, you can\nmanually install dependencies using either !pip or !apt.\n\nTo view examples of installing some common dependencies, click the\n\"Open Examples\" button below.\n\u001b[0;31m---------------------------------------------------------------------------\u001b[0m\n"
          ]
        }
      ]
    },
    {
      "metadata": {
        "id": "ZEUT0FyfUfsf",
        "colab_type": "text"
      },
      "cell_type": "markdown",
      "source": [
        "## Training a Dense GGNN Model\n",
        "\n",
        "The default parameters provided for the dense GGNN Model in the authors' code are as follows:\n",
        "```python\n",
        "'batch_size': 256,\n",
        "'graph_state_dropout_keep_prob': 1.,\n",
        "'task_sample_ratios': {},\n",
        "'use_edge_bias': True,\n",
        "'edge_weight_dropout_keep_prob': 1\n",
        "```"
      ]
    },
    {
      "metadata": {
        "id": "T1nPnJu6YIu5",
        "colab_type": "code",
        "colab": {
          "base_uri": "https://localhost:8080/",
          "height": 129
        },
        "outputId": "6c4a13bc-8463-4d58-ece3-ef8260a1d256"
      },
      "cell_type": "code",
      "source": [
        "args = {\n",
        "    '--help': False,\n",
        "    '--config-file': False,\n",
        "    '--config': '{\"num_epochs\": 100}',\n",
        "    '--log_dir': False,\n",
        "    '--data_dir': False,\n",
        "    '--restore': False,\n",
        "    '--freeze-graph-model': False,\n",
        "    '--evaluate': False\n",
        "}\n",
        "\n",
        " model = DenseGGNNChemModel(args)\n",
        " model.train()"
      ],
      "execution_count": 5,
      "outputs": [
        {
          "output_type": "error",
          "ename": "SyntaxError",
          "evalue": "ignored",
          "traceback": [
            "\u001b[0;36m  File \u001b[0;32m\"<ipython-input-5-b382776e143e>\"\u001b[0;36m, line \u001b[0;32m16\u001b[0m\n\u001b[0;31m    #do nothing\u001b[0m\n\u001b[0m               ^\u001b[0m\n\u001b[0;31mSyntaxError\u001b[0m\u001b[0;31m:\u001b[0m unexpected EOF while parsing\n"
          ]
        }
      ]
    },
    {
      "metadata": {
        "scrolled": false,
        "id": "bwQ0rTMvUfsg",
        "colab_type": "code",
        "colab": {}
      },
      "cell_type": "code",
      "source": [
        "\n",
        "# OPEN THE LOG FILE\n",
        "# LOG FILE IS AN ARRAY OF DICTIONARIES\n",
        "with open(model.log_file) as json_file:  \n",
        "    data = json.load(json_file)\n",
        "    \n",
        "# GET THE LOSS FROM EVERY EPOCH\n",
        "training_losses = []\n",
        "validation_losses = []\n",
        "training_accuracy = []\n",
        "validation_accuracy = []\n",
        "for epoch in data:\n",
        "    training_losses.append(epoch['train_results'][0])\n",
        "    validation_losses.append(epoch['valid_results'][0])\n",
        "    training_accuracy.append(1 - epoch['train_results'][1][0])\n",
        "    validation_accuracy.append(1 - epoch['valid_results'][1][0])"
      ],
      "execution_count": 0,
      "outputs": []
    },
    {
      "metadata": {
        "id": "yTL15BRbUftD",
        "colab_type": "code",
        "colab": {},
        "outputId": "34e8c01b-2f4d-4092-e1a1-d7ce70c38f66"
      },
      "cell_type": "code",
      "source": [
        "plt.plot(training_losses, 'b-', label='training')\n",
        "plt.title('Taining and Validation losses')\n",
        "plt.ylabel('loss')\n",
        "plt.plot(validation_losses, 'r-',label='validation')\n",
        "plt.xlabel('epoch number')\n",
        "plt.ylabel('loss')\n",
        "plt.legend()\n",
        "plt.show()"
      ],
      "execution_count": 0,
      "outputs": [
        {
          "output_type": "display_data",
          "data": {
            "image/png": "[encoded data removed]",
            "text/plain": [
              "<Figure size 432x288 with 1 Axes>"
            ]
          },
          "metadata": {
            "tags": []
          }
        }
      ]
    },
    {
      "metadata": {
        "id": "2OMEiGlRUftI",
        "colab_type": "code",
        "colab": {},
        "outputId": "2a41d2dc-2e8b-4357-ebd0-fda6f946277a"
      },
      "cell_type": "code",
      "source": [
        "plt.plot(training_accuracy, 'r-', label='training')\n",
        "plt.title('Taining and Validation Accuracis')\n",
        "plt.plot(validation_accuracy, 'b-',label='validation')\n",
        "plt.xlabel('epoch number')\n",
        "plt.ylabel('accuracy')\n",
        "plt.legend()\n",
        "plt.show()"
      ],
      "execution_count": 0,
      "outputs": [
        {
          "output_type": "display_data",
          "data": {
            "image/png": "[encoded data removed]",
            "text/plain": [
              "<Figure size 432x288 with 1 Axes>"
            ]
          },
          "metadata": {
            "tags": []
          }
        }
      ]
    },
    {
      "metadata": {
        "id": "xYXWIrUGqzXE",
        "colab_type": "text"
      },
      "cell_type": "markdown",
      "source": [
        "## Training a Sparse GGNN\n",
        "This time we train the Sparse GGNN implementation. The default parameters provided by the authors' code are as follows:\n",
        "```python\n",
        "'batch_size': 100000,\n",
        "'use_edge_bias': False,\n",
        "'use_propagation_attention': False,\n",
        "'use_edge_msg_avg_aggregation': True,\n",
        "'residual_connections': { \n",
        "  # For layer i, specify list of layers whose output is added as an input\n",
        "  \"2\": [0],\n",
        "  \"4\": [0, 2]\n",
        " },\n",
        "'layer_timesteps': [2, 2, 1, 2, 1],  # number of layers & propagation steps per layer\n",
        "'graph_rnn_cell': 'GRU',  # GRU, CudnnCompatibleGRUCell, or RNN\n",
        "'graph_rnn_activation': 'tanh',  # tanh, ReLU\n",
        "'graph_state_dropout_keep_prob': 1.,\n",
        "'task_sample_ratios': {},\n",
        "'edge_weight_dropout_keep_prob': .8\n",
        "```"
      ]
    },
    {
      "metadata": {
        "id": "2VNuMKSDUftL",
        "colab_type": "code",
        "colab": {}
      },
      "cell_type": "code",
      "source": [
        "try:\n",
        "  model = SparseGGNNChemModel(args)\n",
        "  model.train()\n",
        "except:\n",
        "  #do nothing"
      ],
      "execution_count": 0,
      "outputs": []
    },
    {
      "metadata": {
        "id": "gJE7qj-RUftN",
        "colab_type": "code",
        "colab": {}
      },
      "cell_type": "code",
      "source": [
        "# OPEN THE LOG FILE\n",
        "# LOG FILE IS AN ARRAY OF DICTIONARIES\n",
        "with open(model.log_file) as json_file:  \n",
        "    data = json.load(json_file)\n",
        "# GET THE LOSS FROM EVERY EPOCH\n",
        "training_losses = []\n",
        "validation_losses = []\n",
        "training_accuracy = []\n",
        "validation_accuracy = []\n",
        "for epoch in data:\n",
        "    training_losses.append(epoch['train_results'][0])\n",
        "    validation_losses.append(epoch['valid_results'][0])\n",
        "    training_accuracy.append(1 - epoch['train_results'][1][0])\n",
        "    validation_accuracy.append(1 - epoch['valid_results'][1][0])"
      ],
      "execution_count": 0,
      "outputs": []
    },
    {
      "metadata": {
        "id": "WqdVcKAikB1C",
        "colab_type": "code",
        "colab": {}
      },
      "cell_type": "code",
      "source": [
        "plt.plot(training_losses, 'b-', label='training')\n",
        "plt.title('Taining and Validation losses')\n",
        "plt.ylabel('loss')\n",
        "plt.plot(validation_losses, 'r-',label='validation')\n",
        "plt.xlabel('epoch number')\n",
        "plt.ylabel('loss')\n",
        "plt.legend()\n",
        "plt.show()"
      ],
      "execution_count": 0,
      "outputs": []
    },
    {
      "metadata": {
        "id": "CnPnhU-ZkFdh",
        "colab_type": "code",
        "colab": {}
      },
      "cell_type": "code",
      "source": [
        "plt.plot(training_accuracy, 'r-', label='training')\n",
        "plt.title('Taining and Validation Accuracis')\n",
        "plt.plot(validation_accuracy, 'b-',label='validation')\n",
        "plt.xlabel('epoch number')\n",
        "plt.ylabel('accuracy')\n",
        "plt.legend()\n",
        "plt.show()"
      ],
      "execution_count": 0,
      "outputs": []
    },
    {
      "metadata": {
        "id": "wNQP_HN3q79Q",
        "colab_type": "text"
      },
      "cell_type": "markdown",
      "source": [
        "## Varying Parameters for Dense GGNN\n",
        "Now we experiment with changing both the graph edge drop-out probability and state drop-out probability. "
      ]
    },
    {
      "metadata": {
        "id": "kyKHawVmmLYE",
        "colab_type": "code",
        "colab": {
          "base_uri": "https://localhost:8080/",
          "height": 129
        },
        "outputId": "e55b48f4-d0c8-4f40-ef47-93c6d44f17de"
      },
      "cell_type": "code",
      "source": [
        "args = {\n",
        "    '--help': False,\n",
        "    '--config-file': False,\n",
        "    '--config': '{\"num_epochs\": 100, \\\n",
        "                \"edge_weight_dropout_keep_prob\": 0.5, \\\n",
        "                \"graph_state_dropout_keep_prob\": 0.5}',\n",
        "    '--log_dir': False,\n",
        "    '--data_dir': False,\n",
        "    '--restore': False,\n",
        "    '--freeze-graph-model': False,\n",
        "    '--evaluate': False\n",
        "}\n",
        "\n",
        "\n",
        "model = DenseGGNNChemModel(args)\n",
        "model.train()"
      ],
      "execution_count": 4,
      "outputs": [
        {
          "output_type": "error",
          "ename": "SyntaxError",
          "evalue": "ignored",
          "traceback": [
            "\u001b[0;36m  File \u001b[0;32m\"<ipython-input-4-2a8498909bc9>\"\u001b[0;36m, line \u001b[0;32m2\u001b[0m\n\u001b[0;31m    '--help': False,\u001b[0m\n\u001b[0m            ^\u001b[0m\n\u001b[0;31mSyntaxError\u001b[0m\u001b[0;31m:\u001b[0m invalid syntax\n"
          ]
        }
      ]
    },
    {
      "metadata": {
        "id": "uQIPJabdmeTP",
        "colab_type": "code",
        "colab": {}
      },
      "cell_type": "code",
      "source": [
        "# OPEN THE LOG FILE\n",
        "# LOG FILE IS AN ARRAY OF DICTIONARIES\n",
        "with open(model.log_file) as json_file:  \n",
        "    data = json.load(json_file)\n",
        "# GET THE LOSS FROM EVERY EPOCH\n",
        "training_losses = []\n",
        "validation_losses = []\n",
        "training_accuracy = []\n",
        "validation_accuracy = []\n",
        "for epoch in data:\n",
        "    training_losses.append(epoch['train_results'][0])\n",
        "    validation_losses.append(epoch['valid_results'][0])\n",
        "    training_accuracy.append(1 - epoch['train_results'][1][0])\n",
        "    validation_accuracy.append(1 - epoch['valid_results'][1][0])"
      ],
      "execution_count": 0,
      "outputs": []
    },
    {
      "metadata": {
        "id": "A71sjhB5nFlS",
        "colab_type": "code",
        "colab": {}
      },
      "cell_type": "code",
      "source": [
        "plt.plot(training_losses, 'b-', label='training')\n",
        "plt.title('Taining and Validation losses')\n",
        "plt.ylabel('loss')\n",
        "plt.plot(validation_losses, 'r-',label='validation')\n",
        "plt.xlabel('epoch number')\n",
        "plt.ylabel('loss')\n",
        "plt.legend()\n",
        "plt.show()"
      ],
      "execution_count": 0,
      "outputs": []
    },
    {
      "metadata": {
        "id": "vZm1xqUjnMvS",
        "colab_type": "code",
        "colab": {}
      },
      "cell_type": "code",
      "source": [
        "plt.plot(training_accuracy, 'r-', label='training')\n",
        "plt.title('Taining and Validation Accuracis')\n",
        "plt.plot(validation_accuracy, 'b-',label='validation')\n",
        "plt.xlabel('epoch number')\n",
        "plt.ylabel('accuracy')\n",
        "plt.legend()\n",
        "plt.show()"
      ],
      "execution_count": 0,
      "outputs": []
    },
    {
      "metadata": {
        "id": "QMd6tZvmrKeg",
        "colab_type": "text"
      },
      "cell_type": "markdown",
      "source": [
        "## Varying Parameters for Dense GGNN\n",
        "Now we train the Dense GGNN with a RelU activation layer instead of a TanH activation layer"
      ]
    },
    {
      "metadata": {
        "id": "I8Z9-sSwnOd3",
        "colab_type": "code",
        "colab": {}
      },
      "cell_type": "code",
      "source": [
        "args = {\n",
        "    '--help': False,\n",
        "    '--config-file': False,\n",
        "    '--config': '{\"num_epochs\": 100, \\\n",
        "                \"graph_rnn_activation\": \"relu\"}',\n",
        "    '--log_dir': False,\n",
        "    '--data_dir': False,\n",
        "    '--restore': False,\n",
        "    '--freeze-graph-model': False,\n",
        "    '--evaluate': False\n",
        "}\n",
        "\n",
        "\n",
        "model = DenseGGNNChemModel(args)\n",
        "model.train()"
      ],
      "execution_count": 0,
      "outputs": []
    },
    {
      "metadata": {
        "id": "XD5Exr6OrU5V",
        "colab_type": "code",
        "colab": {}
      },
      "cell_type": "code",
      "source": [
        "# OPEN THE LOG FILE\n",
        "# LOG FILE IS AN ARRAY OF DICTIONARIES\n",
        "with open(model.log_file) as json_file:  \n",
        "    data = json.load(json_file)\n",
        "# GET THE LOSS FROM EVERY EPOCH\n",
        "training_losses = []\n",
        "validation_losses = []\n",
        "training_accuracy = []\n",
        "validation_accuracy = []\n",
        "for epoch in data:\n",
        "    training_losses.append(epoch['train_results'][0])\n",
        "    validation_losses.append(epoch['valid_results'][0])\n",
        "    training_accuracy.append(1 - epoch['train_results'][1][0])\n",
        "    validation_accuracy.append(1 - epoch['valid_results'][1][0])"
      ],
      "execution_count": 0,
      "outputs": []
    },
    {
      "metadata": {
        "id": "6D_VmzCbrX3M",
        "colab_type": "code",
        "colab": {}
      },
      "cell_type": "code",
      "source": [
        "plt.plot(training_losses, 'b-', label='training')\n",
        "plt.title('Taining and Validation losses')\n",
        "plt.ylabel('loss')\n",
        "plt.plot(validation_losses, 'r-',label='validation')\n",
        "plt.xlabel('epoch number')\n",
        "plt.ylabel('loss')\n",
        "plt.legend()\n",
        "plt.show()"
      ],
      "execution_count": 0,
      "outputs": []
    },
    {
      "metadata": {
        "id": "Lsp_C_qlraTN",
        "colab_type": "code",
        "colab": {}
      },
      "cell_type": "code",
      "source": [
        "plt.plot(training_accuracy, 'r-', label='training')\n",
        "plt.title('Taining and Validation Accuracis')\n",
        "plt.plot(validation_accuracy, 'b-',label='validation')\n",
        "plt.xlabel('epoch number')\n",
        "plt.ylabel('accuracy')\n",
        "plt.legend()\n",
        "plt.show()"
      ],
      "execution_count": 0,
      "outputs": []
    },
    {
      "metadata": {
        "id": "GPs6d-4ZtY3L",
        "colab_type": "text"
      },
      "cell_type": "markdown",
      "source": [
        "We now maintain the default TanH activation layer and attempt to change the dropout probabilities. "
      ]
    },
    {
      "metadata": {
        "id": "O1_79kYotGEC",
        "colab_type": "code",
        "colab": {}
      },
      "cell_type": "code",
      "source": [
        "args = {\n",
        "    '--help': False,\n",
        "    '--config-file': False,\n",
        "    '--config': '{\"num_epochs\": 100, \\\n",
        "                \"graph_state_dropout_keep_prob\": 0.5, \\\n",
        "                \"edge_weight_dropout_keep_prob\": 0.5}',\n",
        "    '--log_dir': False,\n",
        "    '--data_dir': False,\n",
        "    '--restore': False,\n",
        "    '--freeze-graph-model': False,\n",
        "    '--evaluate': False\n",
        "}\n",
        "\n",
        "\n",
        "model = DenseGGNNChemModel(args)\n",
        "model.train()"
      ],
      "execution_count": 0,
      "outputs": []
    },
    {
      "metadata": {
        "id": "g2kSUAmFtoW2",
        "colab_type": "code",
        "colab": {}
      },
      "cell_type": "code",
      "source": [
        "# OPEN THE LOG FILE\n",
        "# LOG FILE IS AN ARRAY OF DICTIONARIES\n",
        "with open(model.log_file) as json_file:  \n",
        "    data = json.load(json_file)\n",
        "# GET THE LOSS FROM EVERY EPOCH\n",
        "training_losses = []\n",
        "validation_losses = []\n",
        "training_accuracy = []\n",
        "validation_accuracy = []\n",
        "for epoch in data:\n",
        "    training_losses.append(epoch['train_results'][0])\n",
        "    validation_losses.append(epoch['valid_results'][0])\n",
        "    training_accuracy.append(1 - epoch['train_results'][1][0])\n",
        "    validation_accuracy.append(1 - epoch['valid_results'][1][0])"
      ],
      "execution_count": 0,
      "outputs": []
    },
    {
      "metadata": {
        "id": "VxYYYyvdtqa4",
        "colab_type": "code",
        "colab": {}
      },
      "cell_type": "code",
      "source": [
        "plt.plot(training_losses, 'b-', label='training')\n",
        "plt.title('Taining and Validation losses')\n",
        "plt.ylabel('loss')\n",
        "plt.plot(validation_losses, 'r-',label='validation')\n",
        "plt.xlabel('epoch number')\n",
        "plt.ylabel('loss')\n",
        "plt.legend()\n",
        "plt.show()"
      ],
      "execution_count": 0,
      "outputs": []
    },
    {
      "metadata": {
        "id": "e-RYJLbltsiM",
        "colab_type": "code",
        "colab": {}
      },
      "cell_type": "code",
      "source": [
        "plt.plot(training_accuracy, 'r-', label='training')\n",
        "plt.title('Taining and Validation Accuracis')\n",
        "plt.plot(validation_accuracy, 'b-',label='validation')\n",
        "plt.xlabel('epoch number')\n",
        "plt.ylabel('accuracy')\n",
        "plt.legend()\n",
        "plt.show()"
      ],
      "execution_count": 0,
      "outputs": []
    }
  ]
}